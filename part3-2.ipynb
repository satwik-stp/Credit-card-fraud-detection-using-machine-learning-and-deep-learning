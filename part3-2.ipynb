{
 "cells": [
  {
   "cell_type": "code",
   "execution_count": 1,
   "metadata": {},
   "outputs": [
    {
     "name": "stderr",
     "output_type": "stream",
     "text": [
      "C:\\Users\\SATWIK\\AppData\\Local\\Programs\\Python\\Python37\\lib\\site-packages\\tensorflow\\python\\framework\\dtypes.py:526: FutureWarning: Passing (type, 1) or '1type' as a synonym of type is deprecated; in a future version of numpy, it will be understood as (type, (1,)) / '(1,)type'.\n",
      "  _np_qint8 = np.dtype([(\"qint8\", np.int8, 1)])\n",
      "C:\\Users\\SATWIK\\AppData\\Local\\Programs\\Python\\Python37\\lib\\site-packages\\tensorflow\\python\\framework\\dtypes.py:527: FutureWarning: Passing (type, 1) or '1type' as a synonym of type is deprecated; in a future version of numpy, it will be understood as (type, (1,)) / '(1,)type'.\n",
      "  _np_quint8 = np.dtype([(\"quint8\", np.uint8, 1)])\n",
      "C:\\Users\\SATWIK\\AppData\\Local\\Programs\\Python\\Python37\\lib\\site-packages\\tensorflow\\python\\framework\\dtypes.py:528: FutureWarning: Passing (type, 1) or '1type' as a synonym of type is deprecated; in a future version of numpy, it will be understood as (type, (1,)) / '(1,)type'.\n",
      "  _np_qint16 = np.dtype([(\"qint16\", np.int16, 1)])\n",
      "C:\\Users\\SATWIK\\AppData\\Local\\Programs\\Python\\Python37\\lib\\site-packages\\tensorflow\\python\\framework\\dtypes.py:529: FutureWarning: Passing (type, 1) or '1type' as a synonym of type is deprecated; in a future version of numpy, it will be understood as (type, (1,)) / '(1,)type'.\n",
      "  _np_quint16 = np.dtype([(\"quint16\", np.uint16, 1)])\n",
      "C:\\Users\\SATWIK\\AppData\\Local\\Programs\\Python\\Python37\\lib\\site-packages\\tensorflow\\python\\framework\\dtypes.py:530: FutureWarning: Passing (type, 1) or '1type' as a synonym of type is deprecated; in a future version of numpy, it will be understood as (type, (1,)) / '(1,)type'.\n",
      "  _np_qint32 = np.dtype([(\"qint32\", np.int32, 1)])\n",
      "C:\\Users\\SATWIK\\AppData\\Local\\Programs\\Python\\Python37\\lib\\site-packages\\tensorflow\\python\\framework\\dtypes.py:535: FutureWarning: Passing (type, 1) or '1type' as a synonym of type is deprecated; in a future version of numpy, it will be understood as (type, (1,)) / '(1,)type'.\n",
      "  np_resource = np.dtype([(\"resource\", np.ubyte, 1)])\n"
     ]
    }
   ],
   "source": [
    "import pandas as pd\n",
    "import numpy as np\n",
    "import tensorflow as tf\n",
    "import os\n",
    "from datetime import datetime \n",
    "from sklearn.metrics import roc_auc_score as auc \n",
    "import seaborn as sns"
   ]
  },
  {
   "cell_type": "code",
   "execution_count": 2,
   "metadata": {},
   "outputs": [],
   "source": [
    "import matplotlib.pyplot as plt\n",
    "import matplotlib.gridspec as gridspec\n",
    "%matplotlib inline"
   ]
  },
  {
   "cell_type": "markdown",
   "metadata": {},
   "source": [
    "## Data Exploration"
   ]
  },
  {
   "cell_type": "code",
   "execution_count": 3,
   "metadata": {},
   "outputs": [],
   "source": [
    "df = pd.read_csv('creditcard.csv')"
   ]
  },
  {
   "cell_type": "code",
   "execution_count": 4,
   "metadata": {},
   "outputs": [
    {
     "data": {
      "text/plain": [
       "(284807, 31)"
      ]
     },
     "execution_count": 4,
     "metadata": {},
     "output_type": "execute_result"
    }
   ],
   "source": [
    "df.shape"
   ]
  },
  {
   "cell_type": "code",
   "execution_count": 5,
   "metadata": {},
   "outputs": [
    {
     "name": "stdout",
     "output_type": "stream",
     "text": [
      "Total time spanning: 2.0 days\n",
      "0.173 % of all transactions are fraud. \n"
     ]
    }
   ],
   "source": [
    "print(\"Total time spanning: {:.1f} days\".format(df['Time'].max() / (3600 * 24.0)))\n",
    "print(\"{:.3f} % of all transactions are fraud. \".format(np.sum(df['Class']) / df.shape[0] * 100))"
   ]
  },
  {
   "cell_type": "code",
   "execution_count": 6,
   "metadata": {},
   "outputs": [
    {
     "data": {
      "text/html": [
       "<div>\n",
       "<style scoped>\n",
       "    .dataframe tbody tr th:only-of-type {\n",
       "        vertical-align: middle;\n",
       "    }\n",
       "\n",
       "    .dataframe tbody tr th {\n",
       "        vertical-align: top;\n",
       "    }\n",
       "\n",
       "    .dataframe thead th {\n",
       "        text-align: right;\n",
       "    }\n",
       "</style>\n",
       "<table border=\"1\" class=\"dataframe\">\n",
       "  <thead>\n",
       "    <tr style=\"text-align: right;\">\n",
       "      <th></th>\n",
       "      <th>Time</th>\n",
       "      <th>V1</th>\n",
       "      <th>V2</th>\n",
       "      <th>V3</th>\n",
       "      <th>V4</th>\n",
       "      <th>V5</th>\n",
       "      <th>V6</th>\n",
       "      <th>V7</th>\n",
       "      <th>V8</th>\n",
       "      <th>V9</th>\n",
       "      <th>...</th>\n",
       "      <th>V21</th>\n",
       "      <th>V22</th>\n",
       "      <th>V23</th>\n",
       "      <th>V24</th>\n",
       "      <th>V25</th>\n",
       "      <th>V26</th>\n",
       "      <th>V27</th>\n",
       "      <th>V28</th>\n",
       "      <th>Amount</th>\n",
       "      <th>Class</th>\n",
       "    </tr>\n",
       "  </thead>\n",
       "  <tbody>\n",
       "    <tr>\n",
       "      <th>0</th>\n",
       "      <td>0.0</td>\n",
       "      <td>-1.359807</td>\n",
       "      <td>-0.072781</td>\n",
       "      <td>2.536347</td>\n",
       "      <td>1.378155</td>\n",
       "      <td>-0.338321</td>\n",
       "      <td>0.462388</td>\n",
       "      <td>0.239599</td>\n",
       "      <td>0.098698</td>\n",
       "      <td>0.363787</td>\n",
       "      <td>...</td>\n",
       "      <td>-0.018307</td>\n",
       "      <td>0.277838</td>\n",
       "      <td>-0.110474</td>\n",
       "      <td>0.066928</td>\n",
       "      <td>0.128539</td>\n",
       "      <td>-0.189115</td>\n",
       "      <td>0.133558</td>\n",
       "      <td>-0.021053</td>\n",
       "      <td>149.62</td>\n",
       "      <td>0</td>\n",
       "    </tr>\n",
       "    <tr>\n",
       "      <th>1</th>\n",
       "      <td>0.0</td>\n",
       "      <td>1.191857</td>\n",
       "      <td>0.266151</td>\n",
       "      <td>0.166480</td>\n",
       "      <td>0.448154</td>\n",
       "      <td>0.060018</td>\n",
       "      <td>-0.082361</td>\n",
       "      <td>-0.078803</td>\n",
       "      <td>0.085102</td>\n",
       "      <td>-0.255425</td>\n",
       "      <td>...</td>\n",
       "      <td>-0.225775</td>\n",
       "      <td>-0.638672</td>\n",
       "      <td>0.101288</td>\n",
       "      <td>-0.339846</td>\n",
       "      <td>0.167170</td>\n",
       "      <td>0.125895</td>\n",
       "      <td>-0.008983</td>\n",
       "      <td>0.014724</td>\n",
       "      <td>2.69</td>\n",
       "      <td>0</td>\n",
       "    </tr>\n",
       "    <tr>\n",
       "      <th>2</th>\n",
       "      <td>1.0</td>\n",
       "      <td>-1.358354</td>\n",
       "      <td>-1.340163</td>\n",
       "      <td>1.773209</td>\n",
       "      <td>0.379780</td>\n",
       "      <td>-0.503198</td>\n",
       "      <td>1.800499</td>\n",
       "      <td>0.791461</td>\n",
       "      <td>0.247676</td>\n",
       "      <td>-1.514654</td>\n",
       "      <td>...</td>\n",
       "      <td>0.247998</td>\n",
       "      <td>0.771679</td>\n",
       "      <td>0.909412</td>\n",
       "      <td>-0.689281</td>\n",
       "      <td>-0.327642</td>\n",
       "      <td>-0.139097</td>\n",
       "      <td>-0.055353</td>\n",
       "      <td>-0.059752</td>\n",
       "      <td>378.66</td>\n",
       "      <td>0</td>\n",
       "    </tr>\n",
       "    <tr>\n",
       "      <th>3</th>\n",
       "      <td>1.0</td>\n",
       "      <td>-0.966272</td>\n",
       "      <td>-0.185226</td>\n",
       "      <td>1.792993</td>\n",
       "      <td>-0.863291</td>\n",
       "      <td>-0.010309</td>\n",
       "      <td>1.247203</td>\n",
       "      <td>0.237609</td>\n",
       "      <td>0.377436</td>\n",
       "      <td>-1.387024</td>\n",
       "      <td>...</td>\n",
       "      <td>-0.108300</td>\n",
       "      <td>0.005274</td>\n",
       "      <td>-0.190321</td>\n",
       "      <td>-1.175575</td>\n",
       "      <td>0.647376</td>\n",
       "      <td>-0.221929</td>\n",
       "      <td>0.062723</td>\n",
       "      <td>0.061458</td>\n",
       "      <td>123.50</td>\n",
       "      <td>0</td>\n",
       "    </tr>\n",
       "    <tr>\n",
       "      <th>4</th>\n",
       "      <td>2.0</td>\n",
       "      <td>-1.158233</td>\n",
       "      <td>0.877737</td>\n",
       "      <td>1.548718</td>\n",
       "      <td>0.403034</td>\n",
       "      <td>-0.407193</td>\n",
       "      <td>0.095921</td>\n",
       "      <td>0.592941</td>\n",
       "      <td>-0.270533</td>\n",
       "      <td>0.817739</td>\n",
       "      <td>...</td>\n",
       "      <td>-0.009431</td>\n",
       "      <td>0.798278</td>\n",
       "      <td>-0.137458</td>\n",
       "      <td>0.141267</td>\n",
       "      <td>-0.206010</td>\n",
       "      <td>0.502292</td>\n",
       "      <td>0.219422</td>\n",
       "      <td>0.215153</td>\n",
       "      <td>69.99</td>\n",
       "      <td>0</td>\n",
       "    </tr>\n",
       "  </tbody>\n",
       "</table>\n",
       "<p>5 rows × 31 columns</p>\n",
       "</div>"
      ],
      "text/plain": [
       "   Time        V1        V2        V3        V4        V5        V6        V7  \\\n",
       "0   0.0 -1.359807 -0.072781  2.536347  1.378155 -0.338321  0.462388  0.239599   \n",
       "1   0.0  1.191857  0.266151  0.166480  0.448154  0.060018 -0.082361 -0.078803   \n",
       "2   1.0 -1.358354 -1.340163  1.773209  0.379780 -0.503198  1.800499  0.791461   \n",
       "3   1.0 -0.966272 -0.185226  1.792993 -0.863291 -0.010309  1.247203  0.237609   \n",
       "4   2.0 -1.158233  0.877737  1.548718  0.403034 -0.407193  0.095921  0.592941   \n",
       "\n",
       "         V8        V9  ...       V21       V22       V23       V24       V25  \\\n",
       "0  0.098698  0.363787  ... -0.018307  0.277838 -0.110474  0.066928  0.128539   \n",
       "1  0.085102 -0.255425  ... -0.225775 -0.638672  0.101288 -0.339846  0.167170   \n",
       "2  0.247676 -1.514654  ...  0.247998  0.771679  0.909412 -0.689281 -0.327642   \n",
       "3  0.377436 -1.387024  ... -0.108300  0.005274 -0.190321 -1.175575  0.647376   \n",
       "4 -0.270533  0.817739  ... -0.009431  0.798278 -0.137458  0.141267 -0.206010   \n",
       "\n",
       "        V26       V27       V28  Amount  Class  \n",
       "0 -0.189115  0.133558 -0.021053  149.62      0  \n",
       "1  0.125895 -0.008983  0.014724    2.69      0  \n",
       "2 -0.139097 -0.055353 -0.059752  378.66      0  \n",
       "3 -0.221929  0.062723  0.061458  123.50      0  \n",
       "4  0.502292  0.219422  0.215153   69.99      0  \n",
       "\n",
       "[5 rows x 31 columns]"
      ]
     },
     "execution_count": 6,
     "metadata": {},
     "output_type": "execute_result"
    }
   ],
   "source": [
    "df.head()"
   ]
  },
  {
   "cell_type": "code",
   "execution_count": 7,
   "metadata": {},
   "outputs": [
    {
     "data": {
      "text/plain": [
       "Index(['Time', 'V1', 'V2', 'V3', 'V4', 'V5', 'V6', 'V7', 'V8', 'V9', 'V10',\n",
       "       'V11', 'V12', 'V13', 'V14', 'V15', 'V16', 'V17', 'V18', 'V19', 'V20',\n",
       "       'V21', 'V22', 'V23', 'V24', 'V25', 'V26', 'V27', 'V28', 'Amount',\n",
       "       'Class'],\n",
       "      dtype='object')"
      ]
     },
     "execution_count": 7,
     "metadata": {},
     "output_type": "execute_result"
    }
   ],
   "source": [
    "df.columns"
   ]
  },
  {
   "cell_type": "code",
   "execution_count": 8,
   "metadata": {},
   "outputs": [
    {
     "data": {
      "text/plain": [
       "Time      float64\n",
       "V1        float64\n",
       "V2        float64\n",
       "V3        float64\n",
       "V4        float64\n",
       "V5        float64\n",
       "V6        float64\n",
       "V7        float64\n",
       "V8        float64\n",
       "V9        float64\n",
       "V10       float64\n",
       "V11       float64\n",
       "V12       float64\n",
       "V13       float64\n",
       "V14       float64\n",
       "V15       float64\n",
       "V16       float64\n",
       "V17       float64\n",
       "V18       float64\n",
       "V19       float64\n",
       "V20       float64\n",
       "V21       float64\n",
       "V22       float64\n",
       "V23       float64\n",
       "V24       float64\n",
       "V25       float64\n",
       "V26       float64\n",
       "V27       float64\n",
       "V28       float64\n",
       "Amount    float64\n",
       "Class       int64\n",
       "dtype: object"
      ]
     },
     "execution_count": 8,
     "metadata": {},
     "output_type": "execute_result"
    }
   ],
   "source": [
    "df.dtypes"
   ]
  },
  {
   "cell_type": "code",
   "execution_count": 9,
   "metadata": {},
   "outputs": [
    {
     "data": {
      "image/png": "[encoded data removed]",
      "text/plain": [
       "<Figure size 864x1440 with 5 Axes>"
      ]
     },
     "metadata": {
      "needs_background": "light"
     },
     "output_type": "display_data"
    }
   ],
   "source": [
    "plt.figure(figsize=(12,5*4))\n",
    "gs = gridspec.GridSpec(5, 1)\n",
    "for i, cn in enumerate(df.columns[:5]):\n",
    "    ax = plt.subplot(gs[i])\n",
    "    sns.distplot(df[cn][df.Class == 1], bins=50)\n",
    "    sns.distplot(df[cn][df.Class == 0], bins=50)\n",
    "    ax.set_xlabel('')\n",
    "    ax.set_title('histogram of feature: ' + str(cn))\n",
    "plt.show()"
   ]
  },
  {
   "cell_type": "markdown",
   "metadata": {},
   "source": [
    "## Train and test split on time series, using first 75% as training/val, and last 25% as test"
   ]
  },
  {
   "cell_type": "code",
   "execution_count": 10,
   "metadata": {},
   "outputs": [],
   "source": [
    "TEST_RATIO = 0.25\n",
    "df.sort_values('Time', inplace = True)\n",
    "TRA_INDEX = int((1-TEST_RATIO) * df.shape[0])\n",
    "train_x = df.iloc[:TRA_INDEX, 1:-2].values\n",
    "train_y = df.iloc[:TRA_INDEX, -1].values\n",
    "\n",
    "test_x = df.iloc[TRA_INDEX:, 1:-2].values\n",
    "test_y = df.iloc[TRA_INDEX:, -1].values"
   ]
  },
  {
   "cell_type": "code",
   "execution_count": 11,
   "metadata": {},
   "outputs": [
    {
     "name": "stdout",
     "output_type": "stream",
     "text": [
      "Total train examples: 213605, total fraud cases: 398, equal to 0.00186 of total cases. \n"
     ]
    }
   ],
   "source": [
    "print(\"Total train examples: {}, total fraud cases: {}, equal to {:.5f} of total cases. \".format(train_x.shape[0], np.sum(train_y), np.sum(train_y)/train_x.shape[0]))"
   ]
  },
  {
   "cell_type": "code",
   "execution_count": 12,
   "metadata": {},
   "outputs": [
    {
     "name": "stdout",
     "output_type": "stream",
     "text": [
      "Total test examples: 71202, total fraud cases: 94, equal to 0.00132 of total cases. \n"
     ]
    }
   ],
   "source": [
    "print(\"Total test examples: {}, total fraud cases: {}, equal to {:.5f} of total cases. \".format(test_x.shape[0], np.sum(test_y), np.sum(test_y)/test_y.shape[0]))"
   ]
  },
  {
   "cell_type": "markdown",
   "metadata": {},
   "source": [
    "## Feature Normalization - min max score (used for sigmoid activation)"
   ]
  },
  {
   "cell_type": "code",
   "execution_count": 13,
   "metadata": {},
   "outputs": [
    {
     "data": {
      "text/plain": [
       "'cols_max = []\\ncols_min = []\\nfor c in range(train_x.shape[1]):\\n    cols_max.append(train_x[:,c].max())\\n    cols_min.append(train_x[:,c].min())\\n    train_x[:, c] = (train_x[:, c] - cols_min[-1]) / (cols_max[-1] - cols_min[-1])\\n    test_x[:, c] =  (test_x[:, c] - cols_min[-1]) / (cols_max[-1] - cols_min[-1])'"
      ]
     },
     "execution_count": 13,
     "metadata": {},
     "output_type": "execute_result"
    }
   ],
   "source": [
    "'''cols_max = []\n",
    "cols_min = []\n",
    "for c in range(train_x.shape[1]):\n",
    "    cols_max.append(train_x[:,c].max())\n",
    "    cols_min.append(train_x[:,c].min())\n",
    "    train_x[:, c] = (train_x[:, c] - cols_min[-1]) / (cols_max[-1] - cols_min[-1])\n",
    "    test_x[:, c] =  (test_x[:, c] - cols_min[-1]) / (cols_max[-1] - cols_min[-1])'''"
   ]
  },
  {
   "cell_type": "markdown",
   "metadata": {},
   "source": [
    "## Feature Normalization 2 - z score (for tanh activation)"
   ]
  },
  {
   "cell_type": "code",
   "execution_count": 14,
   "metadata": {},
   "outputs": [],
   "source": [
    "cols_mean = []\n",
    "cols_std = []\n",
    "for c in range(train_x.shape[1]):\n",
    "    cols_mean.append(train_x[:,c].mean())\n",
    "    cols_std.append(train_x[:,c].std())\n",
    "    train_x[:, c] = (train_x[:, c] - cols_mean[-1]) / cols_std[-1]\n",
    "    test_x[:, c] =  (test_x[:, c] - cols_mean[-1]) / cols_std[-1]"
   ]
  },
  {
   "cell_type": "markdown",
   "metadata": {},
   "source": [
    "## Modelling and results\n"
   ]
  },
  {
   "cell_type": "markdown",
   "metadata": {},
   "source": [
    "## 1. Auto-encoder as unsupervised learning"
   ]
  },
  {
   "cell_type": "markdown",
   "metadata": {},
   "source": [
    "### Parameters"
   ]
  },
  {
   "cell_type": "code",
   "execution_count": 15,
   "metadata": {},
   "outputs": [],
   "source": [
    "# Parameters\n",
    "learning_rate = 0.001\n",
    "training_epochs = 10\n",
    "batch_size = 256\n",
    "display_step = 1\n",
    "\n",
    "# Network Parameters\n",
    "n_hidden_1 = 15 # 1st layer num features\n",
    "#n_hidden_2 = 15 # 2nd layer num features\n",
    "n_input = train_x.shape[1] # MNIST data input (img shape: 28*28)\n",
    "data_dir = '.'"
   ]
  },
  {
   "cell_type": "markdown",
   "metadata": {},
   "source": [
    "### Train and val the model - (1 hidden layer turned out to be enough)"
   ]
  },
  {
   "cell_type": "code",
   "execution_count": 16,
   "metadata": {},
   "outputs": [
    {
     "name": "stdout",
     "output_type": "stream",
     "text": [
      "WARNING:tensorflow:From C:\\Users\\SATWIK\\AppData\\Local\\Programs\\Python\\Python37\\lib\\site-packages\\tensorflow\\python\\framework\\op_def_library.py:263: colocate_with (from tensorflow.python.framework.ops) is deprecated and will be removed in a future version.\n",
      "Instructions for updating:\n",
      "Colocations handled automatically by placer.\n",
      "Epoch: 0001 cost= 1.007116675 Train auc= 0.961187 Time elapsed= 0:00:02.640197\n",
      "Epoch: 0002 cost= 0.843853474 Train auc= 0.957420 Time elapsed= 0:00:06.011051\n",
      "Epoch: 0003 cost= 0.505903602 Train auc= 0.956186 Time elapsed= 0:00:08.940440\n",
      "Epoch: 0004 cost= 0.992831349 Train auc= 0.956290 Time elapsed= 0:00:11.204419\n",
      "Epoch: 0005 cost= 0.457048893 Train auc= 0.956136 Time elapsed= 0:00:13.442249\n",
      "Epoch: 0006 cost= 0.377180994 Train auc= 0.955996 Time elapsed= 0:00:16.345557\n",
      "Epoch: 0007 cost= 0.799294353 Train auc= 0.956245 Time elapsed= 0:00:18.261163\n",
      "Epoch: 0008 cost= 0.391120911 Train auc= 0.956811 Time elapsed= 0:00:20.537436\n",
      "Epoch: 0009 cost= 0.633314610 Train auc= 0.957458 Time elapsed= 0:00:22.471652\n",
      "Epoch: 0010 cost= 0.426019698 Train auc= 0.958014 Time elapsed= 0:00:24.416126\n",
      "Optimization Finished!\n",
      "Model saved in file: .\\temp_saved_model_1layer.ckpt\n"
     ]
    }
   ],
   "source": [
    "X = tf.placeholder(\"float\", [None, n_input])\n",
    "\n",
    "weights = {\n",
    "    'encoder_h1': tf.Variable(tf.random_normal([n_input, n_hidden_1])),\n",
    "    #'encoder_h2': tf.Variable(tf.random_normal([n_hidden_1, n_hidden_2])),\n",
    "    'decoder_h1': tf.Variable(tf.random_normal([n_hidden_1, n_input])),\n",
    "    #'decoder_h2': tf.Variable(tf.random_normal([n_hidden_1, n_input])),\n",
    "}\n",
    "biases = {\n",
    "    'encoder_b1': tf.Variable(tf.random_normal([n_hidden_1])),\n",
    "    #'encoder_b2': tf.Variable(tf.random_normal([n_hidden_2])),\n",
    "    'decoder_b1': tf.Variable(tf.random_normal([n_input])),\n",
    "    #'decoder_b2': tf.Variable(tf.random_normal([n_input])),\n",
    "}\n",
    "\n",
    "\n",
    "# Building the encoder\n",
    "def encoder(x):\n",
    "    # Encoder Hidden layer with sigmoid activation #1\n",
    "    layer_1 = tf.nn.tanh(tf.add(tf.matmul(x, weights['encoder_h1']),\n",
    "                                   biases['encoder_b1']))\n",
    "    # Decoder Hidden layer with sigmoid activation #2\n",
    "    #layer_2 = tf.nn.tanh(tf.add(tf.matmul(layer_1, weights['encoder_h2']),\n",
    "                                   #biases['encoder_b2']))\n",
    "    return layer_1\n",
    "\n",
    "\n",
    "# Building the decoder\n",
    "def decoder(x):\n",
    "    # Encoder Hidden layer with sigmoid activation #1\n",
    "    layer_1 = tf.nn.tanh(tf.add(tf.matmul(x, weights['decoder_h1']),\n",
    "                                   biases['decoder_b1']))\n",
    "    # Decoder Hidden layer with sigmoid activation #2\n",
    "    #layer_2 = tf.nn.tanh(tf.add(tf.matmul(layer_1, weights['decoder_h2']),\n",
    "                                  # biases['decoder_b2']))\n",
    "    return layer_1\n",
    "\n",
    "# Construct model\n",
    "encoder_op = encoder(X)\n",
    "decoder_op = decoder(encoder_op)\n",
    "\n",
    "# Prediction\n",
    "y_pred = decoder_op\n",
    "# Targets (Labels) are the input data.\n",
    "y_true = X\n",
    "\n",
    "# Define batch mse\n",
    "batch_mse = tf.reduce_mean(tf.pow(y_true - y_pred, 2), 1)\n",
    "\n",
    "# Define loss and optimizer, minimize the squared error\n",
    "cost = tf.reduce_mean(tf.pow(y_true - y_pred, 2))\n",
    "optimizer = tf.train.RMSPropOptimizer(learning_rate).minimize(cost)\n",
    "\n",
    "# TRAIN StARTS\n",
    "save_model = os.path.join(data_dir, 'temp_saved_model_1layer.ckpt')\n",
    "saver = tf.train.Saver()\n",
    "\n",
    "# Initializing the variables\n",
    "init = tf.global_variables_initializer()\n",
    "\n",
    "with tf.Session() as sess:\n",
    "    now = datetime.now()\n",
    "    sess.run(init)\n",
    "    total_batch = int(train_x.shape[0]/batch_size)\n",
    "    # Training cycle\n",
    "    for epoch in range(training_epochs):\n",
    "        # Loop over all batches\n",
    "        for i in range(total_batch):\n",
    "            batch_idx = np.random.choice(train_x.shape[0], batch_size)\n",
    "            batch_xs = train_x[batch_idx]\n",
    "            # Run optimization op (backprop) and cost op (to get loss value)\n",
    "            _, c = sess.run([optimizer, cost], feed_dict={X: batch_xs})\n",
    "            \n",
    "        # Display logs per epoch step\n",
    "        if epoch % display_step == 0:\n",
    "            train_batch_mse = sess.run(batch_mse, feed_dict={X: train_x})\n",
    "            print(\"Epoch:\", '%04d' % (epoch+1),\n",
    "                  \"cost=\", \"{:.9f}\".format(c), \n",
    "                  \"Train auc=\", \"{:.6f}\".format(auc(train_y, train_batch_mse)), \n",
    "                  \"Time elapsed=\", \"{}\".format(datetime.now() - now))\n",
    "\n",
    "    print(\"Optimization Finished!\")\n",
    "    \n",
    "    save_path = saver.save(sess, save_model)\n",
    "    print(\"Model saved in file: %s\" % save_path)\n",
    "    "
   ]
  },
  {
   "cell_type": "markdown",
   "metadata": {},
   "source": [
    "### Test model - on later 25% test data"
   ]
  },
  {
   "cell_type": "code",
   "execution_count": 17,
   "metadata": {},
   "outputs": [
    {
     "name": "stdout",
     "output_type": "stream",
     "text": [
      "WARNING:tensorflow:From C:\\Users\\SATWIK\\AppData\\Local\\Programs\\Python\\Python37\\lib\\site-packages\\tensorflow\\python\\training\\saver.py:1266: checkpoint_exists (from tensorflow.python.training.checkpoint_management) is deprecated and will be removed in a future version.\n",
      "Instructions for updating:\n",
      "Use standard file APIs to check for files with this prefix.\n",
      "INFO:tensorflow:Restoring parameters from .\\temp_saved_model_1layer.ckpt\n",
      "Test auc score: 0.949464\n"
     ]
    }
   ],
   "source": [
    "save_model = os.path.join(data_dir, 'temp_saved_model_1layer.ckpt')\n",
    "saver = tf.train.Saver()\n",
    "\n",
    "# Initializing the variables\n",
    "init = tf.global_variables_initializer()\n",
    "\n",
    "with tf.Session() as sess:\n",
    "    now = datetime.now()\n",
    "    \n",
    "    saver.restore(sess, save_model)\n",
    "    \n",
    "    test_batch_mse = sess.run(batch_mse, feed_dict={X: test_x})\n",
    "    \n",
    "    print(\"Test auc score: {:.6f}\".format(auc(test_y, test_batch_mse)))\n",
    "    "
   ]
  },
  {
   "cell_type": "markdown",
   "metadata": {},
   "source": [
    "## Visualize the prediction"
   ]
  },
  {
   "cell_type": "markdown",
   "metadata": {},
   "source": [
    "### 1. Display fraud score (mse) distribution for non-fraud cases"
   ]
  },
  {
   "cell_type": "code",
   "execution_count": 18,
   "metadata": {},
   "outputs": [
    {
     "data": {
      "image/png": "[encoded data removed]",
      "text/plain": [
       "<Figure size 432x288 with 1 Axes>"
      ]
     },
     "metadata": {
      "needs_background": "light"
     },
     "output_type": "display_data"
    }
   ],
   "source": [
    "plt.hist(test_batch_mse[test_y == 0.0], bins = 100)\n",
    "plt.title(\"fraud score (mse) distribution of non-fraud cases.\")\n",
    "plt.xlabel(\"fraud score (mse)\")\n",
    "plt.show()"
   ]
  },
  {
   "cell_type": "markdown",
   "metadata": {},
   "source": [
    "### Zoom into (0, 20) range"
   ]
  },
  {
   "cell_type": "code",
   "execution_count": 19,
   "metadata": {},
   "outputs": [
    {
     "data": {
      "image/png": "[encoded data removed]",
      "text/plain": [
       "<Figure size 432x288 with 1 Axes>"
      ]
     },
     "metadata": {
      "needs_background": "light"
     },
     "output_type": "display_data"
    }
   ],
   "source": [
    "plt.hist(test_batch_mse[(test_y == 0.0) & (test_batch_mse < 20)], bins = 100)\n",
    "plt.title(\"fraud score (mse) distribution for non-fraud cases.\")\n",
    "plt.xlabel(\"fraud score (mse)\")\n",
    "plt.show()"
   ]
  },
  {
   "cell_type": "markdown",
   "metadata": {},
   "source": [
    "### 2. Display fraud score (mse) distribution for fraud cases"
   ]
  },
  {
   "cell_type": "code",
   "execution_count": 20,
   "metadata": {},
   "outputs": [
    {
     "data": {
      "image/png": "[encoded data removed]",
      "text/plain": [
       "<Figure size 432x288 with 1 Axes>"
      ]
     },
     "metadata": {
      "needs_background": "light"
     },
     "output_type": "display_data"
    }
   ],
   "source": [
    "plt.hist(test_batch_mse[test_y == 1.0], bins = 100)\n",
    "plt.title(\"fraud score (mse) distribution for fraud cases.\")\n",
    "plt.xlabel(\"fraud score (mse)\")\n",
    "plt.show()"
   ]
  },
  {
   "cell_type": "code",
   "execution_count": 21,
   "metadata": {},
   "outputs": [
    {
     "name": "stdout",
     "output_type": "stream",
     "text": [
      "Let's, for example, use 7 as our detection threshold: \n",
      "Number of detected cases above treshold: 513, \n",
      "Number of pos cases only above threshold: 39, \n",
      "The percentage of accuracy above treshold (Precision): 7.60%. \n",
      "Compared to the average percentage of fraud in test set: 0.132%\n"
     ]
    }
   ],
   "source": [
    "THRE_TEST = 7\n",
    "print(\"Let's, for example, use 7 as our detection threshold: \\n\\\n",
    "Number of detected cases above treshold: {}, \\n\\\n",
    "Number of pos cases only above threshold: {}, \\n\\\n",
    "The percentage of accuracy above treshold (Precision): {:0.2f}%. \\n\\\n",
    "Compared to the average percentage of fraud in test set: 0.132%\".format( \\\n",
    "np.sum(test_batch_mse > THRE_TEST), \\\n",
    "np.sum(test_y[test_batch_mse > THRE_TEST]), \\\n",
    "np.sum(test_y[test_batch_mse > THRE_TEST]) / np.sum(test_batch_mse > THRE_TEST) * 100))\n",
    "      "
   ]
  },
  {
   "cell_type": "markdown",
   "metadata": {},
   "source": [
    "### Observation: Our precision increased by a factor of 60 from 0.132% to 7.86%; However, the detection precision is still low (below 8%), but this is mainly due to the overall percentage of fraud cases is really too low. "
   ]
  },
  {
   "cell_type": "markdown",
   "metadata": {},
   "source": [
    "## 2. Build a binary classifier that predicts fraud, using the auto-encoder embedding layers as model inputs. "
   ]
  },
  {
   "cell_type": "markdown",
   "metadata": {},
   "source": [
    "### 1) Get auto-encoder embedding (the `encoder_op` tensor) for both train and test data"
   ]
  },
  {
   "cell_type": "code",
   "execution_count": 22,
   "metadata": {},
   "outputs": [
    {
     "name": "stdout",
     "output_type": "stream",
     "text": [
      "INFO:tensorflow:Restoring parameters from .\\temp_saved_model_1layer.ckpt\n",
      "Dim for test_encoding and train_encoding are: \n",
      " (71202, 15) \n",
      " (213605, 15)\n"
     ]
    }
   ],
   "source": [
    "save_model = os.path.join(data_dir, 'temp_saved_model_1layer.ckpt')\n",
    "saver = tf.train.Saver()\n",
    "\n",
    "# Initializing the variables\n",
    "init = tf.global_variables_initializer()\n",
    "\n",
    "with tf.Session() as sess:\n",
    "    now = datetime.now()\n",
    "    saver.restore(sess, save_model)\n",
    "    \n",
    "    test_encoding = sess.run(encoder_op, feed_dict={X: test_x})\n",
    "    train_encoding = sess.run(encoder_op, feed_dict={X: train_x})\n",
    "    \n",
    "    print(\"Dim for test_encoding and train_encoding are: \\n\", test_encoding.shape, '\\n', train_encoding.shape)"
   ]
  },
  {
   "cell_type": "markdown",
   "metadata": {},
   "source": [
    "### 2) Build the graph for FC layers (best hidden size based on validation is found to be 4)"
   ]
  },
  {
   "cell_type": "code",
   "execution_count": 23,
   "metadata": {},
   "outputs": [
    {
     "name": "stdout",
     "output_type": "stream",
     "text": [
      "WARNING:tensorflow:From <ipython-input-23-4a998b901c71>:24: softmax_cross_entropy_with_logits (from tensorflow.python.ops.nn_ops) is deprecated and will be removed in a future version.\n",
      "Instructions for updating:\n",
      "\n",
      "Future major versions of TensorFlow will allow gradients to flow\n",
      "into the labels input on backprop by default.\n",
      "\n",
      "See `tf.nn.softmax_cross_entropy_with_logits_v2`.\n",
      "\n"
     ]
    }
   ],
   "source": [
    "#n_input = test_encoding.shape[1]\n",
    "n_input = test_encoding.shape[1]\n",
    "\n",
    "hidden_size = 4\n",
    "output_size = 2\n",
    "\n",
    "X = tf.placeholder(tf.float32, [None, n_input], name='input_x')\n",
    "y_ = tf.placeholder(tf.int32, shape=[None, output_size], name='target_y')\n",
    "\n",
    "weights = {\n",
    "    'W1': tf.Variable(tf.truncated_normal([n_input, hidden_size])),\n",
    "    'W2': tf.Variable(tf.truncated_normal([hidden_size, output_size])),\n",
    "}\n",
    "biases = {\n",
    "    'b1': tf.Variable(tf.zeros([hidden_size])),\n",
    "    'b2': tf.Variable(tf.zeros([output_size])),\n",
    "}\n",
    "\n",
    "hidden_layer =  tf.nn.relu(tf.add(tf.matmul(X, weights['W1']), biases['b1']))\n",
    "pred_logits = tf.add(tf.matmul(hidden_layer, weights['W2']), biases['b2'])\n",
    "pred_probs = tf.nn.softmax(pred_logits)\n",
    "\n",
    "cross_entropy = tf.reduce_mean(\n",
    "    tf.nn.softmax_cross_entropy_with_logits(labels=y_, logits=pred_logits))\n",
    "\n",
    "optimizer = tf.train.AdamOptimizer(2e-4).minimize(cross_entropy)\n"
   ]
  },
  {
   "cell_type": "markdown",
   "metadata": {},
   "source": [
    "### 3) Prepare the data set. \n",
    "### Now we need to re-split the train into train/val, due to supervised training.\n",
    "### We will therefore use 80% of out previous training data as our new training, and the remaining 20% as new validation. (train : val : test = (0.75x0.8) : (0.75x0.2) : (0.25x1.0)). \n",
    "### Finally we start to train our binary classifier"
   ]
  },
  {
   "cell_type": "code",
   "execution_count": 24,
   "metadata": {},
   "outputs": [
    {
     "name": "stdout",
     "output_type": "stream",
     "text": [
      "Num of data for train, val and test are: \n",
      "170884, \n",
      "42721, \n",
      "71202\n",
      "Epoch: 0001 cost= 1.171021938 Val auc= 0.795804 Time elapsed= 0:00:01.144214\n",
      "Epoch: 0002 cost= 0.764427483 Val auc= 0.841869 Time elapsed= 0:00:02.024942\n",
      "Epoch: 0003 cost= 0.377719253 Val auc= 0.873507 Time elapsed= 0:00:02.865733\n",
      "Epoch: 0004 cost= 0.277383447 Val auc= 0.880254 Time elapsed= 0:00:03.703116\n",
      "Epoch: 0005 cost= 0.170312434 Val auc= 0.885997 Time elapsed= 0:00:04.554053\n",
      "Epoch: 0006 cost= 0.107626125 Val auc= 0.891862 Time elapsed= 0:00:05.410227\n",
      "Epoch: 0007 cost= 0.060883403 Val auc= 0.895428 Time elapsed= 0:00:06.343502\n",
      "Epoch: 0008 cost= 0.048092753 Val auc= 0.898858 Time elapsed= 0:00:07.170855\n",
      "Epoch: 0009 cost= 0.023933368 Val auc= 0.903194 Time elapsed= 0:00:08.014578\n",
      "Epoch: 0010 cost= 0.015376372 Val auc= 0.905436 Time elapsed= 0:00:08.851122\n",
      "Epoch: 0011 cost= 0.013529419 Val auc= 0.907147 Time elapsed= 0:00:09.699617\n",
      "Epoch: 0012 cost= 0.005654117 Val auc= 0.908800 Time elapsed= 0:00:10.541152\n",
      "Epoch: 0013 cost= 0.024438994 Val auc= 0.910374 Time elapsed= 0:00:11.401179\n",
      "Epoch: 0014 cost= 0.006171435 Val auc= 0.912024 Time elapsed= 0:00:12.277592\n",
      "Epoch: 0015 cost= 0.033084441 Val auc= 0.914512 Time elapsed= 0:00:13.260227\n",
      "Epoch: 0016 cost= 0.001981342 Val auc= 0.917065 Time elapsed= 0:00:14.179763\n",
      "Epoch: 0017 cost= 0.003457858 Val auc= 0.919360 Time elapsed= 0:00:15.076646\n",
      "Epoch: 0018 cost= 0.002344840 Val auc= 0.922061 Time elapsed= 0:00:15.895997\n",
      "Epoch: 0019 cost= 0.001670620 Val auc= 0.924087 Time elapsed= 0:00:16.738233\n",
      "Epoch: 0020 cost= 0.001321869 Val auc= 0.926092 Time elapsed= 0:00:17.572789\n",
      "Epoch: 0021 cost= 0.027582061 Val auc= 0.928452 Time elapsed= 0:00:18.441150\n",
      "Epoch: 0022 cost= 0.000501076 Val auc= 0.930746 Time elapsed= 0:00:19.287698\n",
      "Epoch: 0023 cost= 0.000571425 Val auc= 0.932062 Time elapsed= 0:00:20.129571\n",
      "Epoch: 0024 cost= 0.024942141 Val auc= 0.934237 Time elapsed= 0:00:21.001513\n",
      "Epoch: 0025 cost= 0.000377399 Val auc= 0.935873 Time elapsed= 0:00:21.849093\n",
      "Epoch: 0026 cost= 0.001384784 Val auc= 0.937285 Time elapsed= 0:00:22.686672\n",
      "Epoch: 0027 cost= 0.000356628 Val auc= 0.938536 Time elapsed= 0:00:23.525193\n",
      "Epoch: 0028 cost= 0.000356284 Val auc= 0.939905 Time elapsed= 0:00:24.363601\n",
      "Epoch: 0029 cost= 0.025036164 Val auc= 0.941552 Time elapsed= 0:00:25.206605\n",
      "Epoch: 0030 cost= 0.014474371 Val auc= 0.942786 Time elapsed= 0:00:26.041854\n",
      "Epoch: 0031 cost= 0.000730242 Val auc= 0.944627 Time elapsed= 0:00:26.870781\n",
      "Epoch: 0032 cost= 0.000366910 Val auc= 0.944774 Time elapsed= 0:00:27.719390\n",
      "Epoch: 0033 cost= 0.000403123 Val auc= 0.945670 Time elapsed= 0:00:28.563785\n",
      "Epoch: 0034 cost= 0.001471917 Val auc= 0.946008 Time elapsed= 0:00:29.398242\n",
      "Epoch: 0035 cost= 0.000501329 Val auc= 0.947006 Time elapsed= 0:00:30.256594\n",
      "Epoch: 0036 cost= 0.000344406 Val auc= 0.947853 Time elapsed= 0:00:31.091706\n",
      "Epoch: 0037 cost= 0.000571048 Val auc= 0.948515 Time elapsed= 0:00:31.950708\n",
      "Epoch: 0038 cost= 0.001198870 Val auc= 0.949069 Time elapsed= 0:00:32.784267\n",
      "Epoch: 0039 cost= 0.000468981 Val auc= 0.950447 Time elapsed= 0:00:33.624765\n",
      "Epoch: 0040 cost= 0.000311996 Val auc= 0.951967 Time elapsed= 0:00:34.505748\n",
      "Epoch: 0041 cost= 0.000437534 Val auc= 0.952059 Time elapsed= 0:00:35.422733\n",
      "Epoch: 0042 cost= 0.034931984 Val auc= 0.952194 Time elapsed= 0:00:36.316607\n",
      "Epoch: 0043 cost= 0.001057482 Val auc= 0.952850 Time elapsed= 0:00:37.419408\n",
      "Epoch: 0044 cost= 0.000388203 Val auc= 0.953165 Time elapsed= 0:00:38.900452\n",
      "Epoch: 0045 cost= 0.000509499 Val auc= 0.953113 Time elapsed= 0:00:40.017776\n",
      "Epoch: 0046 cost= 0.001191340 Val auc= 0.953793 Time elapsed= 0:00:41.042589\n",
      "Epoch: 0047 cost= 0.001456406 Val auc= 0.954525 Time elapsed= 0:00:42.133346\n",
      "Epoch: 0048 cost= 0.000743616 Val auc= 0.954420 Time elapsed= 0:00:43.146990\n",
      "Epoch: 0049 cost= 0.018572887 Val auc= 0.955189 Time elapsed= 0:00:44.387989\n",
      "Epoch: 0050 cost= 0.000326810 Val auc= 0.956417 Time elapsed= 0:00:45.652518\n",
      "Epoch: 0051 cost= 0.000260097 Val auc= 0.956718 Time elapsed= 0:00:46.914907\n",
      "Epoch: 0052 cost= 0.001098703 Val auc= 0.957735 Time elapsed= 0:00:47.958144\n",
      "Epoch: 0053 cost= 0.003331632 Val auc= 0.958384 Time elapsed= 0:00:49.020221\n",
      "Epoch: 0054 cost= 0.001216916 Val auc= 0.958242 Time elapsed= 0:00:50.004875\n",
      "Epoch: 0055 cost= 0.024022946 Val auc= 0.958364 Time elapsed= 0:00:50.966339\n",
      "Epoch: 0056 cost= 0.006684650 Val auc= 0.958795 Time elapsed= 0:00:52.025741\n",
      "Epoch: 0057 cost= 0.000338253 Val auc= 0.959428 Time elapsed= 0:00:52.967824\n",
      "Epoch: 0058 cost= 0.001160297 Val auc= 0.959261 Time elapsed= 0:00:53.979002\n",
      "Epoch: 0059 cost= 0.008811632 Val auc= 0.959551 Time elapsed= 0:00:55.084312\n",
      "Epoch: 0060 cost= 0.000447520 Val auc= 0.959728 Time elapsed= 0:00:56.149208\n",
      "Epoch: 0061 cost= 0.001049045 Val auc= 0.959611 Time elapsed= 0:00:57.096912\n",
      "Epoch: 0062 cost= 0.003258751 Val auc= 0.959190 Time elapsed= 0:00:58.005640\n",
      "Epoch: 0063 cost= 0.007582245 Val auc= 0.959482 Time elapsed= 0:00:58.895600\n",
      "Epoch: 0064 cost= 0.001463966 Val auc= 0.959806 Time elapsed= 0:00:59.838151\n",
      "Epoch: 0065 cost= 0.006528259 Val auc= 0.960332 Time elapsed= 0:01:01.565952\n",
      "Epoch: 0066 cost= 0.000690923 Val auc= 0.960724 Time elapsed= 0:01:02.519901\n",
      "Epoch: 0067 cost= 0.009236917 Val auc= 0.960924 Time elapsed= 0:01:03.457813\n",
      "Epoch: 0068 cost= 0.000396686 Val auc= 0.960943 Time elapsed= 0:01:04.387180\n",
      "Epoch: 0069 cost= 0.000483616 Val auc= 0.961456 Time elapsed= 0:01:05.293177\n",
      "Epoch: 0070 cost= 0.000432030 Val auc= 0.961284 Time elapsed= 0:01:06.297856\n",
      "Epoch: 0071 cost= 0.033302516 Val auc= 0.961499 Time elapsed= 0:01:07.403207\n",
      "Epoch: 0072 cost= 0.000910902 Val auc= 0.961694 Time elapsed= 0:01:08.270629\n",
      "Epoch: 0073 cost= 0.014805067 Val auc= 0.961311 Time elapsed= 0:01:09.174917\n",
      "Epoch: 0074 cost= 0.007221684 Val auc= 0.961666 Time elapsed= 0:01:10.074449\n",
      "Epoch: 0075 cost= 0.007316478 Val auc= 0.961559 Time elapsed= 0:01:10.941114\n",
      "Epoch: 0076 cost= 0.000357231 Val auc= 0.961950 Time elapsed= 0:01:11.844713\n",
      "Epoch: 0077 cost= 0.001135578 Val auc= 0.962359 Time elapsed= 0:01:12.738304\n",
      "Epoch: 0078 cost= 0.001272785 Val auc= 0.962578 Time elapsed= 0:01:13.673013\n",
      "Epoch: 0079 cost= 0.000410401 Val auc= 0.963183 Time elapsed= 0:01:14.970074\n",
      "Epoch: 0080 cost= 0.026726982 Val auc= 0.962483 Time elapsed= 0:01:15.929920\n",
      "Optimization Finished!\n",
      "Model saved in file: .\\temp_saved_model_FCLayers.ckpt\n"
     ]
    }
   ],
   "source": [
    "n_epochs = 80\n",
    "batch_size = 256\n",
    "\n",
    "# PREPARE DATA\n",
    "VAL_PERC = 0.2\n",
    "all_y_bin = np.zeros((df.shape[0], 2))\n",
    "all_y_bin[range(df.shape[0]), df['Class'].values] = 1\n",
    "\n",
    "train_enc_x = train_encoding[:int(train_encoding.shape[0] * (1-VAL_PERC))]\n",
    "train_enc_y = all_y_bin[:int(train_encoding.shape[0] * (1-VAL_PERC))]\n",
    "\n",
    "val_enc_x = train_encoding[int(train_encoding.shape[0] * (1-VAL_PERC)):]\n",
    "val_enc_y = all_y_bin[int(train_encoding.shape[0] * (1-VAL_PERC)):train_encoding.shape[0]]\n",
    "\n",
    "test_enc_y = all_y_bin[train_encoding.shape[0]:]\n",
    "print(\"Num of data for train, val and test are: \\n{}, \\n{}, \\n{}\".format(train_enc_x.shape[0], val_enc_x.shape[0], \\\n",
    "                                                                        test_encoding.shape[0]))\n",
    "\n",
    "# TRAIN STARTS\n",
    "save_model = os.path.join(data_dir, 'temp_saved_model_FCLayers.ckpt')\n",
    "saver = tf.train.Saver()\n",
    "\n",
    "# Initializing the variables\n",
    "init = tf.global_variables_initializer()\n",
    "\n",
    "with tf.Session() as sess:\n",
    "    now = datetime.now()\n",
    "    sess.run(init)\n",
    "    total_batch = int(train_enc_x.shape[0]/batch_size)\n",
    "    # Training cycle\n",
    "    for epoch in range(n_epochs):\n",
    "        # Loop over all batches\n",
    "        for i in range(total_batch):\n",
    "            batch_idx = np.random.choice(train_enc_x.shape[0], batch_size)\n",
    "            batch_xs = train_enc_x[batch_idx]\n",
    "            batch_ys = train_enc_y[batch_idx]\n",
    "\n",
    "            # Run optimization op (backprop) and cost op (to get loss value)\n",
    "            _, c = sess.run([optimizer, cross_entropy], feed_dict={X: batch_xs, y_: batch_ys})\n",
    "            \n",
    "        # Display logs per epoch step\n",
    "        if epoch % display_step == 0:\n",
    "            val_probs = sess.run(pred_probs, feed_dict={X: val_enc_x})\n",
    "            print(\"Epoch:\", '%04d' % (epoch+1),\n",
    "                  \"cost=\", \"{:.9f}\".format(c), \n",
    "                  \"Val auc=\", \"{:.6f}\".format(auc(val_enc_y[:, 1], val_probs[:, 1])), \n",
    "                  \"Time elapsed=\", \"{}\".format(datetime.now() - now))\n",
    "\n",
    "    print(\"Optimization Finished!\")\n",
    "    \n",
    "    save_path = saver.save(sess, save_model)\n",
    "    print(\"Model saved in file: %s\" % save_path)\n",
    "    "
   ]
  },
  {
   "cell_type": "markdown",
   "metadata": {},
   "source": [
    "### 4) Test the model on the same test data as before - improved on AUC slightly - 0.9669"
   ]
  },
  {
   "cell_type": "code",
   "execution_count": 25,
   "metadata": {},
   "outputs": [
    {
     "name": "stdout",
     "output_type": "stream",
     "text": [
      "INFO:tensorflow:Restoring parameters from .\\temp_saved_model_FCLayers.ckpt\n",
      "\n",
      "Test auc score: 0.9639581804842259\n"
     ]
    }
   ],
   "source": [
    "save_model = os.path.join(data_dir, 'temp_saved_model_FCLayers.ckpt')\n",
    "saver = tf.train.Saver()\n",
    "# Initializing the variables\n",
    "init = tf.global_variables_initializer()\n",
    "\n",
    "with tf.Session() as sess:\n",
    "    now = datetime.now()\n",
    "    \n",
    "    saver.restore(sess, save_model)\n",
    "    \n",
    "    test_probs = sess.run(pred_probs, feed_dict={X: test_encoding})\n",
    "    \n",
    "    print(\"\\nTest auc score: {}\".format(auc(test_enc_y[:, 1], test_probs[:, 1])))"
   ]
  },
  {
   "cell_type": "markdown",
   "metadata": {},
   "source": [
    "## 3. (Optional) However, let's test a simple supervisied neural network (two layers FC) from scratch - without using auto-encoder"
   ]
  },
  {
   "cell_type": "markdown",
   "metadata": {},
   "source": [
    "### 1) Build graph - 28 (input) -> 8 -> 4 -> 2"
   ]
  },
  {
   "cell_type": "code",
   "execution_count": 26,
   "metadata": {},
   "outputs": [],
   "source": [
    "n_epochs = 200\n",
    "batch_size = 256\n",
    "\n",
    "#n_input = test_encoding.shape[1]\n",
    "n_input = train_x.shape[1]\n",
    "\n",
    "hidden1_size = 8\n",
    "hidden2_size = 4\n",
    "output_size = 2\n",
    "\n",
    "X = tf.placeholder(tf.float32, [None, n_input], name='input_x')\n",
    "y_ = tf.placeholder(tf.int32, shape=[None, output_size], name='target_y')\n",
    "\n",
    "weights = {\n",
    "    'W1': tf.Variable(tf.truncated_normal([n_input, hidden1_size])),\n",
    "    'W2': tf.Variable(tf.truncated_normal([hidden1_size, hidden2_size])),\n",
    "    'W3': tf.Variable(tf.truncated_normal([hidden2_size, output_size])),\n",
    "}\n",
    "biases = {\n",
    "    'b1': tf.Variable(tf.zeros([hidden1_size])),\n",
    "    'b2': tf.Variable(tf.zeros([hidden2_size])),\n",
    "    'b3': tf.Variable(tf.zeros([output_size])),\n",
    "}\n",
    "\n",
    "hidden1_layer =  tf.nn.relu(tf.add(tf.matmul(X, weights['W1']), biases['b1']))\n",
    "hidden2_layer =  tf.nn.relu(tf.add(tf.matmul(hidden1_layer, weights['W2']), biases['b2']))\n",
    "pred_logits = tf.add(tf.matmul(hidden2_layer, weights['W3']), biases['b3'])\n",
    "pred_probs = tf.nn.softmax(pred_logits)\n",
    "\n",
    "cross_entropy = tf.reduce_mean(\n",
    "    tf.nn.softmax_cross_entropy_with_logits(labels=y_, logits=pred_logits))\n",
    "\n",
    "optimizer = tf.train.AdamOptimizer(1e-4).minimize(cross_entropy)\n"
   ]
  },
  {
   "cell_type": "markdown",
   "metadata": {},
   "source": [
    "### 2) Prepare the data set. Now we need to re-split the train into train/val. \n",
    "### Again, we will use 80% of out previous training data as our new training, and the remaining 20% as new validation. (train : val : test = (0.75x0.8) : (0.75x0.2) : (0.25x1.0)).\n"
   ]
  },
  {
   "cell_type": "code",
   "execution_count": 27,
   "metadata": {
    "jupyter": {
     "source_hidden": true
    },
    "scrolled": true
   },
   "outputs": [
    {
     "name": "stdout",
     "output_type": "stream",
     "text": [
      "Num of data for train, val and test are: \n",
      "170884, \n",
      "42721, \n",
      "71202\n",
      "Epoch: 0001 cost= 9.266540527 Val auc= 0.736478 Time elapsed= 0:00:01.434330\n",
      "Epoch: 0002 cost= 6.097185135 Val auc= 0.757670 Time elapsed= 0:00:02.546774\n",
      "Epoch: 0003 cost= 2.856737137 Val auc= 0.759433 Time elapsed= 0:00:03.707811\n",
      "Epoch: 0004 cost= 1.106646061 Val auc= 0.752645 Time elapsed= 0:00:04.873973\n",
      "Epoch: 0005 cost= 0.757975936 Val auc= 0.754369 Time elapsed= 0:00:06.095302\n",
      "Epoch: 0006 cost= 0.424908400 Val auc= 0.755209 Time elapsed= 0:00:07.750583\n",
      "Epoch: 0007 cost= 0.201498836 Val auc= 0.753311 Time elapsed= 0:00:08.968400\n",
      "Epoch: 0008 cost= 0.128369376 Val auc= 0.749879 Time elapsed= 0:00:10.089220\n",
      "Epoch: 0009 cost= 0.125300288 Val auc= 0.743932 Time elapsed= 0:00:11.277344\n",
      "Epoch: 0010 cost= 0.082175866 Val auc= 0.739528 Time elapsed= 0:00:12.494696\n",
      "Epoch: 0011 cost= 0.059744820 Val auc= 0.737702 Time elapsed= 0:00:13.829092\n",
      "Epoch: 0012 cost= 0.041654713 Val auc= 0.734569 Time elapsed= 0:00:15.045090\n",
      "Epoch: 0013 cost= 0.083805501 Val auc= 0.736702 Time elapsed= 0:00:16.181845\n",
      "Epoch: 0014 cost= 0.016009722 Val auc= 0.736270 Time elapsed= 0:00:17.320130\n",
      "Epoch: 0015 cost= 0.024969604 Val auc= 0.737829 Time elapsed= 0:00:18.478551\n",
      "Epoch: 0016 cost= 0.008940309 Val auc= 0.744665 Time elapsed= 0:00:19.732299\n",
      "Epoch: 0017 cost= 0.010902033 Val auc= 0.748653 Time elapsed= 0:00:20.962846\n",
      "Epoch: 0018 cost= 0.004847339 Val auc= 0.759927 Time elapsed= 0:00:22.173614\n",
      "Epoch: 0019 cost= 0.065786600 Val auc= 0.768546 Time elapsed= 0:00:23.382311\n",
      "Epoch: 0020 cost= 0.004845317 Val auc= 0.778370 Time elapsed= 0:00:24.488353\n",
      "Epoch: 0021 cost= 0.002988346 Val auc= 0.786495 Time elapsed= 0:00:25.693788\n",
      "Epoch: 0022 cost= 0.009646095 Val auc= 0.795971 Time elapsed= 0:00:26.897833\n",
      "Epoch: 0023 cost= 0.042047311 Val auc= 0.803531 Time elapsed= 0:00:28.058788\n",
      "Epoch: 0024 cost= 0.001830260 Val auc= 0.806073 Time elapsed= 0:00:29.251742\n",
      "Epoch: 0025 cost= 0.002339072 Val auc= 0.812433 Time elapsed= 0:00:30.534923\n",
      "Epoch: 0026 cost= 0.095253386 Val auc= 0.816097 Time elapsed= 0:00:31.718244\n",
      "Epoch: 0027 cost= 0.001805950 Val auc= 0.818957 Time elapsed= 0:00:32.830467\n",
      "Epoch: 0028 cost= 0.001445322 Val auc= 0.828244 Time elapsed= 0:00:33.904729\n",
      "Epoch: 0029 cost= 0.027469357 Val auc= 0.835865 Time elapsed= 0:00:35.017675\n",
      "Epoch: 0030 cost= 0.001282945 Val auc= 0.837588 Time elapsed= 0:00:36.061936\n",
      "Epoch: 0031 cost= 0.000805336 Val auc= 0.839650 Time elapsed= 0:00:37.244825\n",
      "Epoch: 0032 cost= 0.004514198 Val auc= 0.850252 Time elapsed= 0:00:38.322441\n",
      "Epoch: 0033 cost= 0.014513366 Val auc= 0.851961 Time elapsed= 0:00:39.390402\n",
      "Epoch: 0034 cost= 0.000792755 Val auc= 0.857339 Time elapsed= 0:00:40.482593\n",
      "Epoch: 0035 cost= 0.000840134 Val auc= 0.862238 Time elapsed= 0:00:41.682809\n",
      "Epoch: 0036 cost= 0.002067360 Val auc= 0.861999 Time elapsed= 0:00:42.954238\n",
      "Epoch: 0037 cost= 0.001084597 Val auc= 0.869110 Time elapsed= 0:00:44.236643\n",
      "Epoch: 0038 cost= 0.005874691 Val auc= 0.866948 Time elapsed= 0:00:45.507539\n",
      "Epoch: 0039 cost= 0.001070515 Val auc= 0.869501 Time elapsed= 0:00:46.642474\n",
      "Epoch: 0040 cost= 0.035252035 Val auc= 0.871228 Time elapsed= 0:00:47.731488\n",
      "Epoch: 0041 cost= 0.000677279 Val auc= 0.874961 Time elapsed= 0:00:48.838662\n",
      "Epoch: 0042 cost= 0.000883216 Val auc= 0.880709 Time elapsed= 0:00:49.925309\n",
      "Epoch: 0043 cost= 0.011043609 Val auc= 0.880001 Time elapsed= 0:00:51.063403\n",
      "Epoch: 0044 cost= 0.026969852 Val auc= 0.884432 Time elapsed= 0:00:52.133436\n",
      "Epoch: 0045 cost= 0.000973940 Val auc= 0.881108 Time elapsed= 0:00:53.152531\n",
      "Epoch: 0046 cost= 0.000573328 Val auc= 0.887242 Time elapsed= 0:00:54.192477\n",
      "Epoch: 0047 cost= 0.000585276 Val auc= 0.888589 Time elapsed= 0:00:55.240850\n",
      "Epoch: 0048 cost= 0.000651175 Val auc= 0.887481 Time elapsed= 0:00:56.380741\n",
      "Epoch: 0049 cost= 0.000566092 Val auc= 0.889454 Time elapsed= 0:00:57.569392\n",
      "Epoch: 0050 cost= 0.001175538 Val auc= 0.887113 Time elapsed= 0:00:59.046980\n",
      "Epoch: 0051 cost= 0.000826502 Val auc= 0.888936 Time elapsed= 0:01:00.157724\n",
      "Epoch: 0052 cost= 0.000497176 Val auc= 0.889083 Time elapsed= 0:01:01.285729\n",
      "Epoch: 0053 cost= 0.029830324 Val auc= 0.891707 Time elapsed= 0:01:02.344112\n",
      "Epoch: 0054 cost= 0.000431123 Val auc= 0.894342 Time elapsed= 0:01:03.428974\n",
      "Epoch: 0055 cost= 0.002937825 Val auc= 0.894686 Time elapsed= 0:01:04.487595\n",
      "Epoch: 0056 cost= 0.005548364 Val auc= 0.896825 Time elapsed= 0:01:05.778012\n",
      "Epoch: 0057 cost= 0.000643526 Val auc= 0.897791 Time elapsed= 0:01:06.940111\n",
      "Epoch: 0058 cost= 0.000377083 Val auc= 0.899681 Time elapsed= 0:01:08.145018\n",
      "Epoch: 0059 cost= 0.000612572 Val auc= 0.901059 Time elapsed= 0:01:09.506250\n",
      "Epoch: 0060 cost= 0.000430159 Val auc= 0.900421 Time elapsed= 0:01:10.705818\n",
      "Epoch: 0061 cost= 0.000792865 Val auc= 0.901450 Time elapsed= 0:01:11.804676\n",
      "Epoch: 0062 cost= 0.000380176 Val auc= 0.898368 Time elapsed= 0:01:12.920788\n",
      "Epoch: 0063 cost= 0.000576930 Val auc= 0.901729 Time elapsed= 0:01:13.988886\n",
      "Epoch: 0064 cost= 0.006098785 Val auc= 0.904033 Time elapsed= 0:01:15.126279\n",
      "Epoch: 0065 cost= 0.000362283 Val auc= 0.904700 Time elapsed= 0:01:16.124961\n",
      "Epoch: 0066 cost= 0.000448885 Val auc= 0.904613 Time elapsed= 0:01:17.295089\n",
      "Epoch: 0067 cost= 0.000489289 Val auc= 0.904852 Time elapsed= 0:01:18.622885\n",
      "Epoch: 0068 cost= 0.028309453 Val auc= 0.906115 Time elapsed= 0:01:19.810290\n",
      "Epoch: 0069 cost= 0.001075432 Val auc= 0.907397 Time elapsed= 0:01:20.953225\n",
      "Epoch: 0070 cost= 0.000608582 Val auc= 0.909289 Time elapsed= 0:01:22.072251\n",
      "Epoch: 0071 cost= 0.000527141 Val auc= 0.908478 Time elapsed= 0:01:23.236438\n",
      "Epoch: 0072 cost= 0.001808224 Val auc= 0.909743 Time elapsed= 0:01:24.508735\n",
      "Epoch: 0073 cost= 0.000625507 Val auc= 0.910920 Time elapsed= 0:01:25.685934\n",
      "Epoch: 0074 cost= 0.000625350 Val auc= 0.913884 Time elapsed= 0:01:26.817173\n",
      "Epoch: 0075 cost= 0.000440913 Val auc= 0.912323 Time elapsed= 0:01:27.894127\n",
      "Epoch: 0076 cost= 0.000505469 Val auc= 0.913956 Time elapsed= 0:01:28.971763\n",
      "Epoch: 0077 cost= 0.000818315 Val auc= 0.914531 Time elapsed= 0:01:30.005039\n",
      "Epoch: 0078 cost= 0.015206242 Val auc= 0.914027 Time elapsed= 0:01:31.067483\n",
      "Epoch: 0079 cost= 0.015143205 Val auc= 0.914875 Time elapsed= 0:01:32.138888\n",
      "Epoch: 0080 cost= 0.000810597 Val auc= 0.915681 Time elapsed= 0:01:33.200957\n",
      "Epoch: 0081 cost= 0.000913423 Val auc= 0.916089 Time elapsed= 0:01:34.272008\n",
      "Epoch: 0082 cost= 0.001250043 Val auc= 0.918166 Time elapsed= 0:01:35.296598\n",
      "Epoch: 0083 cost= 0.000755170 Val auc= 0.919769 Time elapsed= 0:01:36.339126\n",
      "Epoch: 0084 cost= 0.000475138 Val auc= 0.920572 Time elapsed= 0:01:37.410164\n",
      "Epoch: 0085 cost= 0.000969140 Val auc= 0.921374 Time elapsed= 0:01:38.539806\n",
      "Epoch: 0086 cost= 0.000615830 Val auc= 0.921461 Time elapsed= 0:01:39.688202\n",
      "Epoch: 0087 cost= 0.000557672 Val auc= 0.920216 Time elapsed= 0:01:40.878141\n",
      "Epoch: 0088 cost= 0.007826846 Val auc= 0.918941 Time elapsed= 0:01:42.037179\n",
      "Epoch: 0089 cost= 0.000758107 Val auc= 0.921119 Time elapsed= 0:01:43.195724\n",
      "Epoch: 0090 cost= 0.000499230 Val auc= 0.921041 Time elapsed= 0:01:44.324807\n",
      "Epoch: 0091 cost= 0.000410827 Val auc= 0.921561 Time elapsed= 0:01:45.391616\n",
      "Epoch: 0092 cost= 0.000334459 Val auc= 0.921399 Time elapsed= 0:01:46.506314\n",
      "Epoch: 0093 cost= 0.001890629 Val auc= 0.922756 Time elapsed= 0:01:47.647295\n",
      "Epoch: 0094 cost= 0.018532621 Val auc= 0.923450 Time elapsed= 0:01:48.728272\n",
      "Epoch: 0095 cost= 0.000572444 Val auc= 0.922288 Time elapsed= 0:01:49.796456\n",
      "Epoch: 0096 cost= 0.000476770 Val auc= 0.923433 Time elapsed= 0:01:50.917075\n",
      "Epoch: 0097 cost= 0.000514274 Val auc= 0.925474 Time elapsed= 0:01:52.051441\n",
      "Epoch: 0098 cost= 0.001278310 Val auc= 0.926998 Time elapsed= 0:01:53.121390\n",
      "Epoch: 0099 cost= 0.000530711 Val auc= 0.925725 Time elapsed= 0:01:54.191255\n",
      "Epoch: 0100 cost= 0.000788552 Val auc= 0.925955 Time elapsed= 0:01:55.337827\n",
      "Epoch: 0101 cost= 0.000811853 Val auc= 0.926838 Time elapsed= 0:01:56.413766\n",
      "Epoch: 0102 cost= 0.000606180 Val auc= 0.926212 Time elapsed= 0:01:57.544366\n",
      "Epoch: 0103 cost= 0.000508711 Val auc= 0.926351 Time elapsed= 0:01:58.716892\n",
      "Epoch: 0104 cost= 0.000421213 Val auc= 0.927469 Time elapsed= 0:01:59.805682\n",
      "Epoch: 0105 cost= 0.000555777 Val auc= 0.927621 Time elapsed= 0:02:00.891052\n",
      "Epoch: 0106 cost= 0.024878709 Val auc= 0.926699 Time elapsed= 0:02:02.002877\n",
      "Epoch: 0107 cost= 0.004300314 Val auc= 0.927322 Time elapsed= 0:02:03.121659\n",
      "Epoch: 0108 cost= 0.000348468 Val auc= 0.928422 Time elapsed= 0:02:04.277116\n",
      "Epoch: 0109 cost= 0.000391512 Val auc= 0.928132 Time elapsed= 0:02:05.357087\n",
      "Epoch: 0110 cost= 0.005807226 Val auc= 0.927290 Time elapsed= 0:02:06.571889\n",
      "Epoch: 0111 cost= 0.001160820 Val auc= 0.927072 Time elapsed= 0:02:07.800059\n",
      "Epoch: 0112 cost= 0.000483915 Val auc= 0.928444 Time elapsed= 0:02:08.838970\n",
      "Epoch: 0113 cost= 0.000282909 Val auc= 0.928031 Time elapsed= 0:02:10.011831\n",
      "Epoch: 0114 cost= 0.003703007 Val auc= 0.928647 Time elapsed= 0:02:11.754081\n",
      "Epoch: 0115 cost= 0.000412868 Val auc= 0.928673 Time elapsed= 0:02:13.754320\n",
      "Epoch: 0116 cost= 0.000459266 Val auc= 0.929153 Time elapsed= 0:02:15.234033\n",
      "Epoch: 0117 cost= 0.000584648 Val auc= 0.929261 Time elapsed= 0:02:16.299234\n",
      "Epoch: 0118 cost= 0.025448225 Val auc= 0.929952 Time elapsed= 0:02:17.365780\n",
      "Epoch: 0119 cost= 0.000532739 Val auc= 0.929234 Time elapsed= 0:02:18.576995\n",
      "Epoch: 0120 cost= 0.000472916 Val auc= 0.929768 Time elapsed= 0:02:19.649632\n",
      "Epoch: 0121 cost= 0.000351440 Val auc= 0.929855 Time elapsed= 0:02:20.801166\n",
      "Epoch: 0122 cost= 0.002801100 Val auc= 0.929272 Time elapsed= 0:02:21.882865\n",
      "Epoch: 0123 cost= 0.012121055 Val auc= 0.928993 Time elapsed= 0:02:22.890907\n",
      "Epoch: 0124 cost= 0.000486745 Val auc= 0.929592 Time elapsed= 0:02:23.959025\n",
      "Epoch: 0125 cost= 0.012502131 Val auc= 0.931167 Time elapsed= 0:02:25.007134\n",
      "Epoch: 0126 cost= 0.000729933 Val auc= 0.929671 Time elapsed= 0:02:26.054133\n",
      "Epoch: 0127 cost= 0.000578371 Val auc= 0.930941 Time elapsed= 0:02:27.098121\n",
      "Epoch: 0128 cost= 0.003157534 Val auc= 0.931481 Time elapsed= 0:02:28.216035\n",
      "Epoch: 0129 cost= 0.000479686 Val auc= 0.931715 Time elapsed= 0:02:29.362245\n",
      "Epoch: 0130 cost= 0.000382725 Val auc= 0.931925 Time elapsed= 0:02:30.444225\n",
      "Epoch: 0131 cost= 0.000384816 Val auc= 0.930960 Time elapsed= 0:02:31.461017\n",
      "Epoch: 0132 cost= 0.000370557 Val auc= 0.930914 Time elapsed= 0:02:32.520221\n",
      "Epoch: 0133 cost= 0.000392853 Val auc= 0.930812 Time elapsed= 0:02:33.585593\n",
      "Epoch: 0134 cost= 0.000283931 Val auc= 0.931272 Time elapsed= 0:02:34.617737\n",
      "Epoch: 0135 cost= 0.000613978 Val auc= 0.930431 Time elapsed= 0:02:35.671933\n",
      "Epoch: 0136 cost= 0.000377583 Val auc= 0.931094 Time elapsed= 0:02:36.881629\n",
      "Epoch: 0137 cost= 0.000346851 Val auc= 0.931188 Time elapsed= 0:02:38.115248\n",
      "Epoch: 0138 cost= 0.000457330 Val auc= 0.931204 Time elapsed= 0:02:39.243767\n",
      "Epoch: 0139 cost= 0.000408888 Val auc= 0.931244 Time elapsed= 0:02:40.398130\n",
      "Epoch: 0140 cost= 0.000289197 Val auc= 0.931670 Time elapsed= 0:02:41.655584\n",
      "Epoch: 0141 cost= 0.007106435 Val auc= 0.930806 Time elapsed= 0:02:42.760921\n",
      "Epoch: 0142 cost= 0.000428540 Val auc= 0.931560 Time elapsed= 0:02:43.861643\n",
      "Epoch: 0143 cost= 0.004068695 Val auc= 0.931978 Time elapsed= 0:02:44.934865\n",
      "Epoch: 0144 cost= 0.002703638 Val auc= 0.931910 Time elapsed= 0:02:45.966976\n",
      "Epoch: 0145 cost= 0.000306038 Val auc= 0.932670 Time elapsed= 0:02:46.996216\n",
      "Epoch: 0146 cost= 0.011336947 Val auc= 0.932213 Time elapsed= 0:02:48.077305\n",
      "Epoch: 0147 cost= 0.000381388 Val auc= 0.931890 Time elapsed= 0:02:49.233260\n",
      "Epoch: 0148 cost= 0.000669619 Val auc= 0.931875 Time elapsed= 0:02:50.578191\n",
      "Epoch: 0149 cost= 0.018464373 Val auc= 0.933167 Time elapsed= 0:02:51.728590\n",
      "Epoch: 0150 cost= 0.002940687 Val auc= 0.932194 Time elapsed= 0:02:52.792920\n",
      "Epoch: 0151 cost= 0.000362182 Val auc= 0.932817 Time elapsed= 0:02:53.930094\n",
      "Epoch: 0152 cost= 0.000312552 Val auc= 0.932922 Time elapsed= 0:02:55.223373\n",
      "Epoch: 0153 cost= 0.000471019 Val auc= 0.932140 Time elapsed= 0:02:56.298766\n",
      "Epoch: 0154 cost= 0.000652628 Val auc= 0.931444 Time elapsed= 0:02:57.389550\n",
      "Epoch: 0155 cost= 0.000257748 Val auc= 0.933466 Time elapsed= 0:02:58.458486\n",
      "Epoch: 0156 cost= 0.000378424 Val auc= 0.933276 Time elapsed= 0:02:59.544310\n",
      "Epoch: 0157 cost= 0.000415548 Val auc= 0.932359 Time elapsed= 0:03:00.710239\n",
      "Epoch: 0158 cost= 0.004020771 Val auc= 0.932581 Time elapsed= 0:03:02.243263\n",
      "Epoch: 0159 cost= 0.000612866 Val auc= 0.932901 Time elapsed= 0:03:03.347289\n",
      "Epoch: 0160 cost= 0.034147661 Val auc= 0.932760 Time elapsed= 0:03:04.478020\n",
      "Epoch: 0161 cost= 0.003237641 Val auc= 0.933911 Time elapsed= 0:03:05.546024\n",
      "Epoch: 0162 cost= 0.000476179 Val auc= 0.934052 Time elapsed= 0:03:06.593420\n",
      "Epoch: 0163 cost= 0.001054350 Val auc= 0.934170 Time elapsed= 0:03:07.694772\n",
      "Epoch: 0164 cost= 0.002219581 Val auc= 0.934758 Time elapsed= 0:03:08.766192\n",
      "Epoch: 0165 cost= 0.000772534 Val auc= 0.933469 Time elapsed= 0:03:09.884656\n",
      "Epoch: 0166 cost= 0.003083842 Val auc= 0.933551 Time elapsed= 0:03:10.931352\n",
      "Epoch: 0167 cost= 0.001600675 Val auc= 0.933714 Time elapsed= 0:03:12.012817\n",
      "Epoch: 0168 cost= 0.018124932 Val auc= 0.933363 Time elapsed= 0:03:13.307127\n",
      "Epoch: 0169 cost= 0.003890298 Val auc= 0.933528 Time elapsed= 0:03:14.413872\n",
      "Epoch: 0170 cost= 0.004927130 Val auc= 0.934801 Time elapsed= 0:03:15.565389\n",
      "Epoch: 0171 cost= 0.000387651 Val auc= 0.934645 Time elapsed= 0:03:16.713071\n",
      "Epoch: 0172 cost= 0.000492891 Val auc= 0.935295 Time elapsed= 0:03:17.859188\n",
      "Epoch: 0173 cost= 0.033866823 Val auc= 0.935101 Time elapsed= 0:03:18.958593\n",
      "Epoch: 0174 cost= 0.000537936 Val auc= 0.935716 Time elapsed= 0:03:20.053109\n",
      "Epoch: 0175 cost= 0.000369615 Val auc= 0.935704 Time elapsed= 0:03:21.134625\n",
      "Epoch: 0176 cost= 0.000644935 Val auc= 0.935171 Time elapsed= 0:03:22.191514\n",
      "Epoch: 0177 cost= 0.000434150 Val auc= 0.934508 Time elapsed= 0:03:23.263562\n",
      "Epoch: 0178 cost= 0.000246772 Val auc= 0.934975 Time elapsed= 0:03:24.352320\n",
      "Epoch: 0179 cost= 0.000520494 Val auc= 0.934241 Time elapsed= 0:03:25.397713\n",
      "Epoch: 0180 cost= 0.000308697 Val auc= 0.935634 Time elapsed= 0:03:26.420473\n",
      "Epoch: 0181 cost= 0.000335902 Val auc= 0.934295 Time elapsed= 0:03:27.458307\n",
      "Epoch: 0182 cost= 0.036189519 Val auc= 0.934569 Time elapsed= 0:03:28.524668\n",
      "Epoch: 0183 cost= 0.001577534 Val auc= 0.934651 Time elapsed= 0:03:29.587066\n",
      "Epoch: 0184 cost= 0.000406202 Val auc= 0.934629 Time elapsed= 0:03:30.624962\n",
      "Epoch: 0185 cost= 0.000519186 Val auc= 0.934472 Time elapsed= 0:03:31.655632\n",
      "Epoch: 0186 cost= 0.000253128 Val auc= 0.935047 Time elapsed= 0:03:32.676666\n",
      "Epoch: 0187 cost= 0.000353443 Val auc= 0.934987 Time elapsed= 0:03:33.748612\n",
      "Epoch: 0188 cost= 0.000332749 Val auc= 0.934809 Time elapsed= 0:03:34.782127\n",
      "Epoch: 0189 cost= 0.000684780 Val auc= 0.934888 Time elapsed= 0:03:35.833927\n",
      "Epoch: 0190 cost= 0.000195149 Val auc= 0.934889 Time elapsed= 0:03:36.896916\n",
      "Epoch: 0191 cost= 0.000229685 Val auc= 0.936290 Time elapsed= 0:03:37.995068\n",
      "Epoch: 0192 cost= 0.002557389 Val auc= 0.936179 Time elapsed= 0:03:39.176350\n",
      "Epoch: 0193 cost= 0.000306790 Val auc= 0.935665 Time elapsed= 0:03:40.397302\n",
      "Epoch: 0194 cost= 0.000345829 Val auc= 0.936205 Time elapsed= 0:03:41.585962\n",
      "Epoch: 0195 cost= 0.000435404 Val auc= 0.936213 Time elapsed= 0:03:42.809801\n",
      "Epoch: 0196 cost= 0.007866303 Val auc= 0.935917 Time elapsed= 0:03:44.519064\n",
      "Epoch: 0197 cost= 0.000369373 Val auc= 0.935720 Time elapsed= 0:03:45.565450\n",
      "Epoch: 0198 cost= 0.000227666 Val auc= 0.934771 Time elapsed= 0:03:46.741647\n",
      "Epoch: 0199 cost= 0.000453346 Val auc= 0.935404 Time elapsed= 0:03:47.963398\n",
      "Epoch: 0200 cost= 0.000264763 Val auc= 0.935333 Time elapsed= 0:03:49.035514\n",
      "Optimization Finished!\n",
      "Model saved in file: .\\temp_saved_model_FCNNets_raw.ckpt\n"
     ]
    }
   ],
   "source": [
    "# PREPARE DATA\n",
    "VAL_PERC = 0.2\n",
    "all_y_bin = np.zeros((df.shape[0], 2))\n",
    "all_y_bin[range(df.shape[0]), df['Class'].values] = 1\n",
    "\n",
    "train_enc_x = train_x[:int(train_x.shape[0] * (1-VAL_PERC))]\n",
    "train_enc_y = all_y_bin[:int(train_x.shape[0] * (1-VAL_PERC))]\n",
    "\n",
    "val_enc_x = train_x[int(train_encoding.shape[0] *  (1-VAL_PERC)):]\n",
    "val_enc_y = all_y_bin[int(train_encoding.shape[0] * (1-VAL_PERC)):train_x.shape[0]]\n",
    "\n",
    "test_enc_y = all_y_bin[train_x.shape[0]:]\n",
    "\n",
    "print(\"Num of data for train, val and test are: \\n{}, \\n{}, \\n{}\".format(train_enc_x.shape[0], val_enc_x.shape[0], \\\n",
    "                                                                        test_encoding.shape[0]))\n",
    "# TRAIN STARTS\n",
    "save_model = os.path.join(data_dir, 'temp_saved_model_FCNNets_raw.ckpt')\n",
    "saver = tf.train.Saver()\n",
    "\n",
    "# Initializing the variables\n",
    "init = tf.global_variables_initializer()\n",
    "\n",
    "with tf.Session() as sess:\n",
    "    now = datetime.now()\n",
    "    sess.run(init)\n",
    "    total_batch = int(train_enc_x.shape[0]/batch_size)\n",
    "    # Training cycle\n",
    "    for epoch in range(n_epochs):\n",
    "        # Loop over all batches\n",
    "        for i in range(total_batch):\n",
    "            batch_idx = np.random.choice(train_enc_x.shape[0], batch_size)\n",
    "            batch_xs = train_enc_x[batch_idx]\n",
    "            batch_ys = train_enc_y[batch_idx]\n",
    "            # Run optimization op (backprop) and cost op (to get loss value)\n",
    "            _, c = sess.run([optimizer, cross_entropy], feed_dict={X: batch_xs, y_: batch_ys})\n",
    "            \n",
    "        # Display logs per epoch step\n",
    "        if epoch % display_step == 0:\n",
    "            val_probs = sess.run(pred_probs, feed_dict={X: val_enc_x})\n",
    "            print(\"Epoch:\", '%04d' % (epoch+1),\n",
    "                  \"cost=\", \"{:.9f}\".format(c), \n",
    "                  \"Val auc=\", \"{:.6f}\".format(auc(val_enc_y[:, 1], val_probs[:, 1])), \n",
    "                  \"Time elapsed=\", \"{}\".format(datetime.now() - now))\n",
    "\n",
    "    print(\"Optimization Finished!\")\n",
    "    \n",
    "    save_path = saver.save(sess, save_model)\n",
    "    print(\"Model saved in file: %s\" % save_path)\n",
    "    "
   ]
  },
  {
   "cell_type": "markdown",
   "metadata": {},
   "source": [
    "### 3) Predict on test data"
   ]
  },
  {
   "cell_type": "code",
   "execution_count": 28,
   "metadata": {},
   "outputs": [
    {
     "name": "stdout",
     "output_type": "stream",
     "text": [
      "INFO:tensorflow:Restoring parameters from .\\temp_saved_model_FCNNets_raw.ckpt\n",
      "Test auc score: 0.9429046496848066\n"
     ]
    }
   ],
   "source": [
    "save_model = os.path.join(data_dir, 'temp_saved_model_FCNNets_raw.ckpt')\n",
    "saver = tf.train.Saver()\n",
    "# Initializing the variables\n",
    "init = tf.global_variables_initializer()\n",
    "\n",
    "with tf.Session() as sess:\n",
    "    now = datetime.now()\n",
    "    \n",
    "    saver.restore(sess, save_model)\n",
    "    \n",
    "    test_probs = sess.run(pred_probs, feed_dict={X: test_x})\n",
    "    \n",
    "    print(\"Test auc score: {}\".format(auc(test_enc_y[:, 1], test_probs[:, 1])))"
   ]
  },
  {
   "cell_type": "code",
   "execution_count": null,
   "metadata": {
    "collapsed": true,
    "jupyter": {
     "outputs_hidden": true
    }
   },
   "outputs": [],
   "source": []
  },
  {
   "cell_type": "code",
   "execution_count": null,
   "metadata": {
    "collapsed": true,
    "jupyter": {
     "outputs_hidden": true
    }
   },
   "outputs": [],
   "source": []
  },
  {
   "cell_type": "code",
   "execution_count": null,
   "metadata": {
    "collapsed": true,
    "jupyter": {
     "outputs_hidden": true
    }
   },
   "outputs": [],
   "source": []
  },
  {
   "cell_type": "code",
   "execution_count": null,
   "metadata": {
    "collapsed": true,
    "jupyter": {
     "outputs_hidden": true
    }
   },
   "outputs": [],
   "source": []
  }
 ],
 "metadata": {
  "kernelspec": {
   "display_name": "Python 3",
   "language": "python",
   "name": "python3"
  },
  "language_info": {
   "codemirror_mode": {
    "name": "ipython",
    "version": 3
   },
   "file_extension": ".py",
   "mimetype": "text/x-python",
   "name": "python",
   "nbconvert_exporter": "python",
   "pygments_lexer": "ipython3",
   "version": "3.7.4"
  }
 },
 "nbformat": 4,
 "nbformat_minor": 4
}
